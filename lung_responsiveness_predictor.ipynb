{
 "cells": [
  {
   "cell_type": "markdown",
   "metadata": {},
   "source": [
    "# Responsiveness Predictive Model\n",
    "\n",
    "This is a machine learning model that classifies the given lung image data into either responsive or unresponsive to medicine. It does so using a fourier transform of the image, which is then fed into either an SVM or Random Forest classifier. We achieve ~85-90% accuracy on the test set. \n",
    "\n",
    "The intuition for this model is as follows: The fourier transform breaks the image down into different features, sorted by frequency. Then, the classifier transforms this feature information into classification information. "
   ]
  },
  {
   "cell_type": "code",
   "execution_count": 43,
   "metadata": {},
   "outputs": [],
   "source": [
    "##imports\n",
    "import torch\n",
    "import torchvision\n",
    "import torchvision.transforms as transforms\n",
    "\n",
    "import numpy as np\n",
    "\n",
    "import os\n",
    "from pathlib import Path\n",
    "\n",
    "from PIL import Image\n",
    "\n",
    "import torch.nn as nn\n",
    "import torch.nn.functional as F\n",
    "\n",
    "from sklearn.svm import LinearSVC, SVC\n",
    "from sklearn.model_selection import train_test_split\n",
    "from sklearn.ensemble import RandomForestClassifier\n",
    "\n",
    "import pickle"
   ]
  },
  {
   "cell_type": "code",
   "execution_count": 2,
   "metadata": {},
   "outputs": [],
   "source": [
    "##defining labels for the dataset (in a compressed way)\n",
    "images_path = Path('Lung/lung_images')\n",
    "\n",
    "images_list = sorted(entry for entry in images_path.iterdir() if entry.is_file())\n",
    "\n",
    "label_ctr = [5,5,15,7,9,5,4,18,4,9,4,6,5,4,5,8,8,4,81,5,9,4,5,6,5,10,4,3,9,19,5,6,33,50,5] #bad, good, bad, good ..."
   ]
  },
  {
   "cell_type": "code",
   "execution_count": 3,
   "metadata": {},
   "outputs": [],
   "source": [
    "###definition of dataset\n",
    "label_ctr = [5,5,15,7,9,5,4,18,4,9,4,6,5,4,5,8,8,4,81,5,9,4,5,6,5,10,4,3,9,19,5,6,33,50,5] #bad, good, bad, good ...\n",
    "class LungMatrixDataset(torch.utils.data.Dataset):\n",
    "    def __init__(self, label_ctr, img_path):\n",
    "        super().__init__()\n",
    "        self.labels = []\n",
    "        for i in range(len(label_ctr)):\n",
    "            self.labels += [((-1)**(i+1))] * label_ctr[i] #create a 1-0 list\n",
    "        \n",
    "        images_list = sorted(entry for entry in images_path.iterdir() if entry.is_file())\n",
    "        self.arrays_list = []\n",
    "        for item in images_list:\n",
    "            if item.name == '.DS_Store':\n",
    "                continue\n",
    "            image = Image.open(item).convert('L')\n",
    "            img_data = np.asarray(image)\n",
    "            self.arrays_list.append((img_data))\n",
    "\n",
    "    def __len__(self):\n",
    "        return len(self.arrays_list)\n",
    "        \n",
    "    def __getitem__(self, idx):\n",
    "        return (self.arrays_list[idx]), (self.labels[idx])"
   ]
  },
  {
   "cell_type": "code",
   "execution_count": 4,
   "metadata": {},
   "outputs": [],
   "source": [
    "lungdat = LungMatrixDataset(label_ctr, 'Lung/lung_images')"
   ]
  },
  {
   "cell_type": "code",
   "execution_count": 45,
   "metadata": {},
   "outputs": [],
   "source": [
    "##train test split\n",
    "X_train, X_test, y_train, y_test = train_test_split(lungdat.arrays_list, lungdat.labels,  train_size = 0.75, random_state = 3)\n"
   ]
  },
  {
   "cell_type": "code",
   "execution_count": 46,
   "metadata": {},
   "outputs": [],
   "source": [
    "X_train_fourier = np.fft.fft2(X_train)\n",
    "X_test_fourier = np.fft.fft2(X_test)"
   ]
  },
  {
   "cell_type": "code",
   "execution_count": 47,
   "metadata": {},
   "outputs": [],
   "source": [
    "X_train = np.absolute(X_train).reshape(len(X_train),600*800)\n",
    "X_test = np.absolute(X_test).reshape(len(X_test),600*800)\n",
    "\n",
    "X_train_fourier = np.absolute(X_train_fourier).reshape(len(X_train_fourier),600*800)\n",
    "X_test_fourier = np.absolute(X_test_fourier).reshape(len(X_test_fourier),600*800)"
   ]
  },
  {
   "cell_type": "code",
   "execution_count": 41,
   "metadata": {},
   "outputs": [],
   "source": [
    "svm = LinearSVC(random_state = 1)"
   ]
  },
  {
   "cell_type": "code",
   "execution_count": 42,
   "metadata": {},
   "outputs": [
    {
     "data": {
      "text/plain": [
       "LinearSVC(random_state=1)"
      ]
     },
     "execution_count": 42,
     "metadata": {},
     "output_type": "execute_result"
    }
   ],
   "source": [
    "svm.fit(X_train_fourier, y_train)"
   ]
  },
  {
   "cell_type": "code",
   "execution_count": 44,
   "metadata": {},
   "outputs": [
    {
     "name": "stdout",
     "output_type": "stream",
     "text": [
      "1.0 0.8541666666666666\n"
     ]
    }
   ],
   "source": [
    "train_acc = svm.score(X_train_fourier, y_train)\n",
    "test_acc = svm.score(X_test_fourier, y_test)\n",
    "print(train_acc, test_acc)"
   ]
  },
  {
   "cell_type": "code",
   "execution_count": 48,
   "metadata": {},
   "outputs": [],
   "source": [
    "rfc = RandomForestClassifier(random_state = 1)"
   ]
  },
  {
   "cell_type": "code",
   "execution_count": 49,
   "metadata": {},
   "outputs": [
    {
     "data": {
      "text/plain": [
       "RandomForestClassifier(random_state=1)"
      ]
     },
     "execution_count": 49,
     "metadata": {},
     "output_type": "execute_result"
    }
   ],
   "source": [
    "rfc.fit(X_train_fourier, y_train)"
   ]
  },
  {
   "cell_type": "code",
   "execution_count": 50,
   "metadata": {},
   "outputs": [
    {
     "name": "stdout",
     "output_type": "stream",
     "text": [
      "1.0 0.9583333333333334\n"
     ]
    }
   ],
   "source": [
    "rfc_train_acc = rfc.score(X_train_fourier, y_train)\n",
    "rfc_test_acc = rfc.score(X_test_fourier, y_test)\n",
    "print(rfc_train_acc, rfc_test_acc)"
   ]
  },
  {
   "cell_type": "markdown",
   "metadata": {},
   "source": [
    "SVM Test Performance\n",
    "data random_state = 1, model random_state = 0: acc = 0.8542, 1: acc = 0.8542\n",
    "\n",
    "RFC Test Performance\n",
    "data random_state = 1, model random_state = 0: acc = 0.8854, 1: acc = 0.896\n",
    "data random_state = 3, model random_state = 1: acc = 0.9583\n",
    "\n",
    "\n",
    "Without Fourier:\n",
    "train accuracy = 0.4271\n",
    "test accuracy = 0.4792"
   ]
  },
  {
   "cell_type": "code",
   "execution_count": 88,
   "metadata": {},
   "outputs": [],
   "source": [
    "filename = 'successfull_svm_1.sav'\n",
    "pickle.dump(svm, open(filename, 'wb'))\n"
   ]
  },
  {
   "cell_type": "code",
   "execution_count": 89,
   "metadata": {},
   "outputs": [],
   "source": [
    "filename = 'successfull_rfc_1.sav'\n",
    "pickle.dump(rfc, open(filename, 'wb'))\n"
   ]
  }
 ],
 "metadata": {
  "kernelspec": {
   "display_name": "Python 3",
   "language": "python",
   "name": "python3"
  },
  "language_info": {
   "codemirror_mode": {
    "name": "ipython",
    "version": 3
   },
   "file_extension": ".py",
   "mimetype": "text/x-python",
   "name": "python",
   "nbconvert_exporter": "python",
   "pygments_lexer": "ipython3",
   "version": "3.7.7"
  },
  "latex_envs": {
   "LaTeX_envs_menu_present": true,
   "autoclose": false,
   "autocomplete": true,
   "bibliofile": "biblio.bib",
   "cite_by": "apalike",
   "current_citInitial": 1,
   "eqLabelWithNumbers": true,
   "eqNumInitial": 1,
   "hotkeys": {
    "equation": "Ctrl-E",
    "itemize": "Ctrl-I"
   },
   "labels_anchors": false,
   "latex_user_defs": false,
   "report_style_numbering": false,
   "user_envs_cfg": false
  },
  "toc": {
   "base_numbering": 1,
   "nav_menu": {},
   "number_sections": true,
   "sideBar": true,
   "skip_h1_title": false,
   "title_cell": "Table of Contents",
   "title_sidebar": "Contents",
   "toc_cell": false,
   "toc_position": {},
   "toc_section_display": true,
   "toc_window_display": false
  },
  "varInspector": {
   "cols": {
    "lenName": 16,
    "lenType": 16,
    "lenVar": 40
   },
   "kernels_config": {
    "python": {
     "delete_cmd_postfix": "",
     "delete_cmd_prefix": "del ",
     "library": "var_list.py",
     "varRefreshCmd": "print(var_dic_list())"
    },
    "r": {
     "delete_cmd_postfix": ") ",
     "delete_cmd_prefix": "rm(",
     "library": "var_list.r",
     "varRefreshCmd": "cat(var_dic_list()) "
    }
   },
   "types_to_exclude": [
    "module",
    "function",
    "builtin_function_or_method",
    "instance",
    "_Feature"
   ],
   "window_display": false
  }
 },
 "nbformat": 4,
 "nbformat_minor": 4
}
